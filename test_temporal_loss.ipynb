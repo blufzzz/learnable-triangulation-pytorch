{
 "cells": [
  {
   "cell_type": "code",
   "execution_count": 2,
   "metadata": {},
   "outputs": [],
   "source": [
    "# %load_ext autoreload\n",
    "# %autoreload 2\n",
    "\n",
    "# import torch\n",
    "# from mvn.utils import multiview\n",
    "\n",
    "# from mvn.datasets.cmu import CMUSceneDataset\n",
    "# from mvn.datasets.human36m import Human36MMultiViewDataset, Human36MSingleViewDataset\n",
    "# from torch.utils.data import DataLoader\n",
    "\n",
    "# import os\n",
    "# from itertools import islice\n",
    "# from tqdm import tqdm_notebook\n",
    "# import pickle\n",
    "\n",
    "\n",
    "# import numpy as np\n",
    "# import cv2\n",
    "# import time\n",
    "\n",
    "# from torch import nn\n",
    "# import torch.nn.functional as F\n",
    "# from torch.utils.data import DataLoader\n",
    "\n",
    "# from mvn.utils.img import image_batch_to_numpy, denormalize_image\n",
    "# from mvn.models.temporal import TemporalModel, TemporalModelBase\n",
    "# from mvn.models.basic import MVNetVolumetricHybridResNet_2, MVNetVolumetricHybridResNet_temporal\n",
    "# from mvn.utils.multiview import project_3d_points_to_image_plane_without_distortion\n",
    "# from mvn.utils.vis import draw_2d_pose\n",
    "\n",
    "# from mvn.utils import img\n",
    "# from mvn.utils import multiview\n",
    "# from mvn.utils import op\n",
    "# from mvn.utils import vis\n",
    "# from mvn.utils import misc\n",
    "# from mvn.utils import cfg\n",
    "\n",
    "# from mvn.datasets import cmu, kth\n",
    "# from mvn.datasets import utils as dataset_utils\n",
    "# from mvn.datasets.human36m import Human36MMultiViewDataset, Human36MSingleViewDataset\n",
    "\n",
    "# from train import setup_human36m_dataloaders\n",
    "\n",
    "# from IPython.core.debugger import set_trace\n",
    "\n",
    "# from matplotlib import pyplot as plt\n",
    "# from warnings import filterwarnings\n",
    "# filterwarnings(\"ignore\")\n",
    "\n",
    "# %matplotlib inline\n",
    "\n",
    "# retval = {\n",
    "#     'subject_names': ['S1', 'S5', 'S6', 'S7', 'S8', 'S9', 'S11'],\n",
    "#     'camera_names': ['54138969', '55011271', '58860488', '60457274'],\n",
    "#     'action_names': [\n",
    "#         'Directions-1', 'Directions-2',\n",
    "#         'Discussion-1', 'Discussion-2',\n",
    "#         'Eating-1', 'Eating-2',\n",
    "#         'Greeting-1', 'Greeting-2',\n",
    "#         'Phoning-1', 'Phoning-2',\n",
    "#         'Posing-1', 'Posing-2',\n",
    "#         'Purchases-1', 'Purchases-2',\n",
    "#         'Sitting-1', 'Sitting-2',\n",
    "#         'SittingDown-1', 'SittingDown-2',\n",
    "#         'Smoking-1', 'Smoking-2',\n",
    "#         'TakingPhoto-1', 'TakingPhoto-2',\n",
    "#         'Waiting-1', 'Waiting-2',\n",
    "#         'Walking-1', 'Walking-2',\n",
    "#         'WalkingDog-1', 'WalkingDog-2',\n",
    "#         'WalkingTogether-1', 'WalkingTogether-2']\n",
    "# }\n",
    "# # import nonechucks"
   ]
  },
  {
   "cell_type": "code",
   "execution_count": 29,
   "metadata": {},
   "outputs": [],
   "source": [
    "import numpy as np\n",
    "import matplotlib.pyplot as plt\n",
    "import  cv2\n",
    "from scipy import signal\n",
    "\n",
    "def gkern(kernlen=21, std=3):\n",
    "    \"\"\"Returns a 2D Gaussian kernel array.\"\"\"\n",
    "    gkern1d = signal.gaussian(kernlen, std=std).reshape(kernlen, 1)\n",
    "    gkern2d = np.outer(gkern1d, gkern1d)\n",
    "    return gkern2d"
   ]
  },
  {
   "cell_type": "code",
   "execution_count": 25,
   "metadata": {},
   "outputs": [],
   "source": [
    "img1 = np.zeros((50,50))\n",
    "img2 = np.zeros((50,50))\n",
    "k = 21\n",
    "s = gkern(kernlen=k, std=3)"
   ]
  },
  {
   "cell_type": "code",
   "execution_count": 26,
   "metadata": {},
   "outputs": [],
   "source": [
    "offset = 10\n",
    "img1[offset:offset+k,offset:offset+k] = s\n",
    "img2[2*offset:2*offset+k,2*offset:2*offset+k] = s"
   ]
  },
  {
   "cell_type": "code",
   "execution_count": 28,
   "metadata": {},
   "outputs": [
    {
     "data": {
      "text/plain": [
       "<matplotlib.image.AxesImage at 0x7efd069073c8>"
      ]
     },
     "execution_count": 28,
     "metadata": {},
     "output_type": "execute_result"
    },
    {
     "data": {
      "image/png": "[encoded data removed]",
      "text/plain": [
       "<matplotlib.figure.Figure at 0x7efd05d78b38>"
      ]
     },
     "metadata": {},
     "output_type": "display_data"
    },
    {
     "data": {
      "image/png": "[encoded data removed]",
      "text/plain": [
       "<matplotlib.figure.Figure at 0x7efd05d6c978>"
      ]
     },
     "metadata": {},
     "output_type": "display_data"
    },
    {
     "data": {
      "image/png": "[encoded data removed]",
      "text/plain": [
       "<matplotlib.figure.Figure at 0x7efd062630f0>"
      ]
     },
     "metadata": {},
     "output_type": "display_data"
    }
   ],
   "source": [
    "plt.figure()\n",
    "plt.imshow(img1)\n",
    "plt.figure()\n",
    "plt.imshow(img2)\n",
    "plt.figure()\n",
    "plt.imshow(2*img2-img1)"
   ]
  },
  {
   "cell_type": "code",
   "execution_count": null,
   "metadata": {},
   "outputs": [],
   "source": []
  }
 ],
 "metadata": {
  "kernelspec": {
   "display_name": "Python 3",
   "language": "python",
   "name": "python3"
  },
  "language_info": {
   "codemirror_mode": {
    "name": "ipython",
    "version": 3
   },
   "file_extension": ".py",
   "mimetype": "text/x-python",
   "name": "python",
   "nbconvert_exporter": "python",
   "pygments_lexer": "ipython3",
   "version": "3.6.4"
  }
 },
 "nbformat": 4,
 "nbformat_minor": 2
}
