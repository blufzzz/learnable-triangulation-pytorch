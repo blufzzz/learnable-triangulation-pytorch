{
 "cells": [
  {
   "cell_type": "code",
   "execution_count": 84,
   "metadata": {},
   "outputs": [
    {
     "name": "stdout",
     "output_type": "stream",
     "text": [
      "The autoreload extension is already loaded. To reload it, use:\n",
      "  %reload_ext autoreload\n"
     ]
    }
   ],
   "source": [
    "%load_ext autoreload\n",
    "%autoreload 2\n",
    "import os\n",
    "import sys\n",
    "import shutil\n",
    "import argparse\n",
    "import time\n",
    "import json\n",
    "from datetime import datetime\n",
    "from collections import defaultdict\n",
    "from itertools import islice\n",
    "import pickle\n",
    "import copy\n",
    "import numpy as np\n",
    "import cv2\n",
    "from easydict import EasyDict\n",
    "from IPython.core.debugger import set_trace\n",
    "import matplotlib.pyplot as plt\n",
    "\n",
    "import torch\n",
    "from torch import nn\n",
    "from torch import autograd\n",
    "import torch.nn.functional as F\n",
    "import torch.optim as optim\n",
    "from torch.utils.data import DataLoader\n",
    "from torch.nn.parallel import DistributedDataParallel\n",
    "from tensorboardX import SummaryWriter\n",
    "\n",
    "from mvn.models.triangulation import RANSACTriangulationNet, AlgebraicTriangulationNet, VolumetricTriangulationNet\n",
    "from mvn.models.volumetric_temporal import VolumetricTemporalNet,\\\n",
    "                                           VolumetricTemporalAdaINNet,\\\n",
    "                                           VolumetricFRAdaINNet\n",
    "from mvn.models.v2v import AdaIN, V2VModel, Basic3DBlock, Res3DBlock, Upsample3DBlock, Pool3DBlock, EncoderDecorder\n",
    "from mvn.models.loss import KeypointsMSELoss, KeypointsMSESmoothLoss, KeypointsMAELoss, KeypointsL2Loss, VolumetricCELoss\n",
    "from mvn.utils import img, multiview, op, vis, misc, cfg\n",
    "from mvn.datasets.human36m import Human36MSingleViewDataset, Human36MMultiViewDataset\n",
    "from mvn.datasets import utils as dataset_utils\n",
    "\n",
    "\n",
    "def get_n(m):\n",
    "    s = 0\n",
    "    for param in m.parameters():\n",
    "        s+=param.nelement()\n",
    "    print (m.__class__, s//1024)    "
   ]
  },
  {
   "cell_type": "markdown",
   "metadata": {},
   "source": [
    "# V2V"
   ]
  },
  {
   "cell_type": "code",
   "execution_count": 80,
   "metadata": {},
   "outputs": [],
   "source": [
    "\n",
    "CHANNELS_LIST_v2 = [128,128,  128,128,\\\n",
    "                    32,32,32,  128,128,  32,32,32, 128,128,  64,64,64,  128,128,\\\n",
    "                    128,128,  128,128,  128,128,  256,256,256,  256,256,\\\n",
    "                    128,128,128,  128,  128,128,  128,  64,64,64,  64,  32,32,32,  32,  32,32,  32,\\\n",
    "                    32,32] # 32,32\n",
    "\n",
    "V2V_CHANNELS_LIST = [256, 32, 32, 32, 32, 32, 32, 32, 32, 32, 64, 64, 64, 64, 64, 128, 128, 128, 128, 128,\\\n",
    "                                  128, 128, 128, 128, 128, 128, 128, 128, 128, 128, 128, 128, 128, 128, 128, 128, 128, 128,\\\n",
    "                                  128, 128, 128, 128, 128, 64, 64, 64, 32, 32, 32, 32, 32]\n"
   ]
  },
  {
   "cell_type": "code",
   "execution_count": 5,
   "metadata": {},
   "outputs": [],
   "source": [
    "class V2VModel_configured(nn.Module):\n",
    "    def __init__(self, config):\n",
    "            super().__init__()\n",
    "            input_channels = config.input_channels\n",
    "            output_channels = config.output_channels\n",
    "            normalization_type= config.normalization_type\n",
    "\n",
    "            self.front_layer1 = Basic3DBlock(input_channels, 32, 7, normalization_type)\n",
    "            self.front_layer2 = Res3DBlock(32, 32, normalization_type)\n",
    "            self.front_layer3 = Res3DBlock(32, 32, normalization_type)\n",
    "            self.front_layer4 = Res3DBlock(32, 32, normalization_type)\n",
    "            # [32, 32,32, 32,32, 32,32]\n",
    "\n",
    "            self.encoder_decoder = EncoderDecorder_configured(normalization_type)\n",
    "            # [32,32, 64,64,64, 64,64, 128,128,128, 128,128, 128,128,\n",
    "            # 128,128, 128,128, 128,128, 128,128, 128,128, 128,128, 128,\n",
    "            # 128,128, 128, 128,128, 128, 128,128, 64, 64,64, 32]\n",
    "\n",
    "            self.back_layer1 = Res3DBlock(32, 32, normalization_type)\n",
    "            self.back_layer2 = Basic3DBlock(32, 32, 1, normalization_type)\n",
    "            self.back_layer3 = Basic3DBlock(32, 32, 1, normalization_type)\n",
    "            # [32,32, 32, 32]\n",
    "\n",
    "            self.output_layer = nn.Conv3d(32, output_channels, kernel_size=1, stride=1, padding=0)\n",
    "\n",
    "            self._initialize_weights()"
   ]
  },
  {
   "cell_type": "markdown",
   "metadata": {},
   "source": [
    "# Seq2VecCNN"
   ]
  },
  {
   "cell_type": "code",
   "execution_count": 81,
   "metadata": {},
   "outputs": [],
   "source": [
    "class Slice(nn.Module):\n",
    "    def __init__(self, shift):\n",
    "        super(Slice, self).__init__()\n",
    "        self.shift = shift\n",
    "    def forward(self,x):\n",
    "        return x[:, :, self.shift : x.shape[2] - self.shift]\n",
    "\n",
    "class Res1DBlock(nn.Module):\n",
    "    def __init__(self, in_planes, out_planes, n_groups = 32, kernel_size=3):\n",
    "        \n",
    "        super(Res1DBlock, self).__init__()\n",
    "        pad = kernel_size // 2 if kernel_size > 1 else 0\n",
    "        self.res_branch = nn.Sequential(\n",
    "            nn.Conv1d(in_planes, out_planes, kernel_size=kernel_size, padding=pad),\n",
    "            nn.GroupNorm(n_groups, out_planes),\n",
    "            nn.ReLU(True),\n",
    "            nn.Conv1d(out_planes, out_planes, kernel_size=kernel_size),\n",
    "            nn.GroupNorm(n_groups, out_planes)\n",
    "        )\n",
    "\n",
    "        if in_planes == out_planes:\n",
    "            self.skip_con = Slice(kernel_size // 2)\n",
    "        else:\n",
    "            self.skip_con = nn.Sequential(\n",
    "                Slice(kernel_size // 2),\n",
    "                nn.Conv1d(in_planes, out_planes, kernel_size=1),\n",
    "                nn.GroupNorm(n_groups, out_planes)\n",
    "            )\n",
    "\n",
    "    def forward(self, x):\n",
    "        res = self.res_branch(x)\n",
    "        skip = self.skip_con(x)\n",
    "        print (x.shape, skip.shape)\n",
    "        return F.relu(res + skip, True)"
   ]
  },
  {
   "cell_type": "code",
   "execution_count": 82,
   "metadata": {},
   "outputs": [],
   "source": [
    "\n",
    "class Seq2VecCNN(nn.Module):\n",
    "    \"\"\"docstring for Seq2VecCNN\"\"\"\n",
    "    def __init__(self, \n",
    "                 input_features_dim, \n",
    "                 output_features_dim=1024, \n",
    "                 intermediate_channels=512, \n",
    "                 dt = 8,\n",
    "                 kernel_size = 3):\n",
    "        \n",
    "        super(Seq2VecCNN, self).__init__()\n",
    "        self.input_features_dim = input_features_dim\n",
    "        self.output_features_dim = output_features_dim\n",
    "        self.intermediate_channels = intermediate_channels\n",
    "        \n",
    "        self.first_block = Res1DBlock(input_features_dim, \n",
    "                                      intermediate_channels,\n",
    "                                      kernel_size=1)\n",
    "        \n",
    "        \n",
    "        l = dt\n",
    "        blocks =  []\n",
    "        while True:\n",
    "            l = l - kernel_size + 1\n",
    "            if l < kernel_size:\n",
    "                break\n",
    "            print (l)    \n",
    "            blocks.append(Res1DBlock(intermediate_channels, \n",
    "                                     intermediate_channels, \n",
    "                                     kernel_size = kernel_size))\n",
    "        \n",
    "        self.blocks = nn.Sequential(*blocks)    \n",
    "        self.final_block = nn.Conv1d(intermediate_channels, \n",
    "                                      output_features_dim,\n",
    "                                      kernel_size=l)\n",
    "        \n",
    "    def forward(self, x, device='cuda:0'):\n",
    "        # [batch_size, dt, feature_shape]\n",
    "        x = x.transpose(1,2) # [batch_size, dt, feature_shape] -> [batch_size, feature_shape, dt]\n",
    "        x  = self.first_block(x)\n",
    "        x  = self.blocks(x)\n",
    "        print (x.shape)\n",
    "        x  = self.final_block(x)\n",
    "        \n",
    "        return x[...,0]"
   ]
  },
  {
   "cell_type": "code",
   "execution_count": 83,
   "metadata": {},
   "outputs": [
    {
     "name": "stdout",
     "output_type": "stream",
     "text": [
      "5\n",
      "3\n",
      "torch.Size([4, 128, 7]) torch.Size([4, 512, 7])\n",
      "torch.Size([4, 512, 7]) torch.Size([4, 512, 5])\n",
      "torch.Size([4, 512, 5]) torch.Size([4, 512, 3])\n",
      "torch.Size([4, 512, 3])\n"
     ]
    },
    {
     "data": {
      "text/plain": [
       "torch.Size([4, 1024])"
      ]
     },
     "execution_count": 83,
     "metadata": {},
     "output_type": "execute_result"
    }
   ],
   "source": [
    "dt = 7\n",
    "model = Seq2VecCNN(128, dt = dt, kernel_size=3)\n",
    "model(torch.randn(4,dt,128)).shape"
   ]
  },
  {
   "cell_type": "markdown",
   "metadata": {},
   "source": [
    "# AdaIN"
   ]
  },
  {
   "cell_type": "code",
   "execution_count": 2,
   "metadata": {},
   "outputs": [],
   "source": [
    "adain = AdaIN()"
   ]
  },
  {
   "cell_type": "code",
   "execution_count": 14,
   "metadata": {},
   "outputs": [
    {
     "data": {
      "image/png": "[encoded data removed]",
      "text/plain": [
       "<Figure size 432x288 with 12 Axes>"
      ]
     },
     "metadata": {
      "needs_background": "light"
     },
     "output_type": "display_data"
    },
    {
     "name": "stdout",
     "output_type": "stream",
     "text": [
      "after adain\n"
     ]
    },
    {
     "data": {
      "image/png": "[encoded data removed]",
      "text/plain": [
       "<Figure size 432x288 with 12 Axes>"
      ]
     },
     "metadata": {
      "needs_background": "light"
     },
     "output_type": "display_data"
    }
   ],
   "source": [
    "batch_size, C, N = 4,3,100\n",
    "x = torch.randn(batch_size, C, N,N,N)\n",
    "s = torch.randn(batch_size, 2*C)*10\n",
    "\n",
    "fig, axes = plt.subplots(nrows=batch_size,ncols=C)\n",
    "for i in range(batch_size):\n",
    "    for j in range(C):\n",
    "        axes[i][j].hist(x[i,j].data.flatten().numpy(), bins=50)\n",
    "        \n",
    "plt.tight_layout()\n",
    "plt.show() \n",
    "\n",
    "y = adain(x,s)\n",
    "print('after adain')\n",
    "fig, axes = plt.subplots(nrows=batch_size,ncols=C)\n",
    "for i in range(batch_size):\n",
    "    for j in range(C):\n",
    "        axes[i][j].hist(y[i,j].data.flatten().numpy(),bins=50)\n",
    "        \n",
    "plt.tight_layout()\n",
    "plt.show() "
   ]
  },
  {
   "cell_type": "markdown",
   "metadata": {},
   "source": [
    "# Features Encoder\\Decoder"
   ]
  },
  {
   "cell_type": "code",
   "execution_count": 44,
   "metadata": {},
   "outputs": [],
   "source": [
    "from torchvision import models\n",
    "class FeaturesEncoder_ResNet(nn.Module):\n",
    "    \"\"\"docstring for FeaturesEncoder\"\"\"\n",
    "    def __init__(self, input_features_dim, output_features_dim, pretrained=False):\n",
    "        super().__init__()\n",
    "        self.input_features_dim = input_features_dim\n",
    "        self.output_features_dim = output_features_dim\n",
    "        self.pretrained = pretrained\n",
    "                \n",
    "        self.features = nn.Sequential(nn.Conv2d(self.input_features_dim,128,3),\n",
    "                               nn.BatchNorm2d(128),\n",
    "                               nn.ReLU(),\n",
    "                               nn.MaxPool2d(2),\n",
    "                               nn.Conv2d(128,64,3),\n",
    "                               nn.BatchNorm2d(64),\n",
    "                               nn.ReLU(),\n",
    "                               nn.MaxPool2d(2),\n",
    "                               nn.Conv2d(64,32,1),\n",
    "                               nn.BatchNorm2d(32),\n",
    "                               nn.ReLU(),\n",
    "                               nn.MaxPool2d(2),\n",
    "                               nn.Conv2d(32,16,1),\n",
    "                               nn.BatchNorm2d(16),\n",
    "                               nn.ReLU(),\n",
    "                               nn.MaxPool2d(2))\n",
    "        \n",
    "    def forward(self, x):\n",
    "        x = self.features(x)\n",
    "        return x\n",
    "    \n",
    "    \n",
    "\n",
    "    \n",
    "    \n",
    "class FeaturesEncoder_Bottleneck(nn.Module):\n",
    "    \"\"\"docstring for FeaturesEncoder_Bottleneck\"\"\"\n",
    "    def __init__(self, output_features_dim, C = 4, multiplier=128):\n",
    "        super().__init__()\n",
    "        self.output_features_dim = output_features_dim\n",
    "        self.C = C\n",
    "        self.multiplier = multiplier\n",
    "        self.features=nn.Sequential(nn.Conv2d(2048, \n",
    "                                              self.C * self.multiplier, \n",
    "                                              kernel_size=3, \n",
    "                                              stride=2),\n",
    "                                      nn.BatchNorm2d(self.C * self.multiplier),\n",
    "                                      nn.ReLU(),\n",
    "                                      nn.Conv2d(self.C * self.multiplier, \n",
    "                                                self.C * self.multiplier//2, \n",
    "                                                kernel_size=3, \n",
    "                                                stride=1),\n",
    "                                      nn.BatchNorm2d(self.C * self.multiplier//2),\n",
    "                                      nn.ReLU(),\n",
    "                                      nn.Conv2d(self.C * self.multiplier//2,\n",
    "                                                self.C * self.multiplier//4, \n",
    "                                                kernel_size=3, \n",
    "                                                stride=1),\n",
    "                                      nn.BatchNorm2d(self.C * self.multiplier//4),\n",
    "                                      nn.ReLU(),\n",
    "                                      nn.Conv2d(self.C * self.multiplier//4,\n",
    "                                                self.C * self.multiplier//4, kernel_size=1),\n",
    "                                      nn.BatchNorm2d(self.C * self.multiplier//4),\n",
    "                                      nn.ReLU()\n",
    "                                    )\n",
    "        \n",
    "        self.linear = nn.Linear(self.C * self.multiplier//4, output_features_dim)\n",
    "        self.activation = nn.ReLU()\n",
    "        \n",
    "    def forward(self, x):\n",
    "        batch_size = x.shape[0]\n",
    "        x = self.features(x)\n",
    "        x = x.view(batch_size, -1)\n",
    "        x = self.linear(x)\n",
    "        x = self.activation(x)\n",
    "        return x   "
   ]
  },
  {
   "cell_type": "code",
   "execution_count": 45,
   "metadata": {},
   "outputs": [
    {
     "name": "stderr",
     "output_type": "stream",
     "text": [
      "/media/hpc2_storage/ibulygin/miniconda3/envs/mvn/lib/python3.6/site-packages/torchvision/models/densenet.py:212: UserWarning: nn.init.kaiming_normal is now deprecated in favor of nn.init.kaiming_normal_.\n",
      "  nn.init.kaiming_normal(m.weight.data)\n"
     ]
    },
    {
     "data": {
      "text/plain": [
       "torch.Size([4, 1024])"
      ]
     },
     "execution_count": 45,
     "metadata": {},
     "output_type": "execute_result"
    }
   ],
   "source": [
    "x = torch.randn(4,256,96,96)\n",
    "m = FeaturesEncoder_DenseNet(256, 1024)\n",
    "m(x).shape"
   ]
  },
  {
   "cell_type": "markdown",
   "metadata": {},
   "source": [
    "# Backbone"
   ]
  },
  {
   "cell_type": "code",
   "execution_count": 73,
   "metadata": {},
   "outputs": [
    {
     "name": "stdout",
     "output_type": "stream",
     "text": [
      "Loading pretrained weights from: ./data/pose_resnet_4.5_pixels_human36m.pth\n",
      "Parameters [{'final_layer.weight', 'final_layer.bias'}] were not inited\n",
      "Successfully loaded pretrained weights for backbone\n"
     ]
    }
   ],
   "source": [
    "from mvn.models.pose_resnet import get_pose_net\n",
    "config = cfg.load_config('./experiments/human36m/train/human36m_vol_temporal_softmax_lstm_adain.yaml')\n",
    "pose_resnet = get_pose_net(config.model.backbone, device='cpu')"
   ]
  },
  {
   "cell_type": "code",
   "execution_count": 77,
   "metadata": {},
   "outputs": [],
   "source": [
    "heatmaps, features, alg_confidences, vol_confidences, bottleneck = pose_resnet.forward(torch.randn(4,3,384,384))"
   ]
  },
  {
   "cell_type": "code",
   "execution_count": 78,
   "metadata": {},
   "outputs": [
    {
     "data": {
      "text/plain": [
       "torch.Size([4, 2048, 12, 12])"
      ]
     },
     "execution_count": 78,
     "metadata": {},
     "output_type": "execute_result"
    }
   ],
   "source": [
    "bottleneck.shape"
   ]
  },
  {
   "cell_type": "code",
   "execution_count": 158,
   "metadata": {},
   "outputs": [],
   "source": [
    "m = FeaturesEncoder_Bottleneck(1024)"
   ]
  },
  {
   "cell_type": "code",
   "execution_count": 159,
   "metadata": {},
   "outputs": [
    {
     "data": {
      "text/plain": [
       "torch.Size([4, 1024])"
      ]
     },
     "execution_count": 159,
     "metadata": {},
     "output_type": "execute_result"
    }
   ],
   "source": [
    "m(bottleneck).shape"
   ]
  },
  {
   "cell_type": "markdown",
   "metadata": {},
   "source": [
    "# Seq2Vec"
   ]
  },
  {
   "cell_type": "code",
   "execution_count": 171,
   "metadata": {},
   "outputs": [],
   "source": [
    "class Seq2VecRNN(nn.Module):\n",
    "    \"\"\"docstring for Seq2VecRNN\"\"\"\n",
    "    def __init__(self, input_features_dim, output_features_dim=1024, hidden_dim = 1024):\n",
    "        super(Seq2VecRNN, self).__init__()\n",
    "        self.input_features_dim = input_features_dim\n",
    "        self.output_features_dim = output_features_dim\n",
    "        self.hidden_dim = hidden_dim\n",
    "        \n",
    "        self.lstm = nn.LSTM(self.input_features_dim, self.hidden_dim, batch_first=True)\n",
    "        \n",
    "        if self.output_features_dim != self.hidden_dim :\n",
    "            self.output_layer = nn.Linear(self.hidden_dim, self.output_features_dim)\n",
    "            self.activation = nn.ReLU()\n",
    "        \n",
    "    def forward(self, features, eps = 1e-3, device='cuda:0'):\n",
    "        # [bathc_size, dt, feature_shape]\n",
    "        batch_size = features.shape[0]\n",
    "        (h0, c0) = torch.randn(1, batch_size, self.hidden_dim, device=device)*eps,\\\n",
    "                   torch.randn(1, batch_size, self.hidden_dim, device=device)*eps\n",
    "        output, (hn, cn) = self.lstm(features, (h0, c0))\n",
    "        output = output[:,-1,...]\n",
    "        if self.output_features_dim is not None:\n",
    "            output = self.activation(self.output_layer(output))\n",
    "        return output"
   ]
  },
  {
   "cell_type": "code",
   "execution_count": 172,
   "metadata": {},
   "outputs": [],
   "source": [
    "seq2vec=Seq2VecRNN(1024,output_features_dim=512)"
   ]
  },
  {
   "cell_type": "code",
   "execution_count": 173,
   "metadata": {},
   "outputs": [
    {
     "data": {
      "text/plain": [
       "torch.Size([10, 512])"
      ]
     },
     "execution_count": 173,
     "metadata": {},
     "output_type": "execute_result"
    }
   ],
   "source": [
    "seq2vec.forward(torch.randn(10,8,1024), device='cpu').shape"
   ]
  },
  {
   "cell_type": "code",
   "execution_count": null,
   "metadata": {},
   "outputs": [],
   "source": []
  },
  {
   "cell_type": "markdown",
   "metadata": {},
   "source": [
    "# Recursive unprojecting"
   ]
  },
  {
   "cell_type": "code",
   "execution_count": null,
   "metadata": {},
   "outputs": [],
   "source": [
    "batch_size = 10\n",
    "dt = \n",
    "\n",
    "heatmaps = torch.randn()\n",
    "proj_matricies \n",
    "coord_volumes \n",
    "volume_aggregation_method='sum'\n",
    "vol_confidences=None, volumes_multipliers=1.\n",
    "    \n",
    "device = 'cpu'    \n",
    "batch_size, n_views, n_joints, heatmap_shape = heatmaps.shape[0], heatmaps.shape[1], heatmaps.shape[2], tuple(heatmaps.shape[3:])\n",
    "volume_shape = coord_volumes.shape[1:4]\n",
    "\n",
    "volume_batch = [] if volume_aggregation_method=='no_aggregation' else torch.zeros(batch_size, n_joints, *volume_shape, device=device)\n",
    "\n",
    "# TODO: speed up this this loop\n",
    "for batch_i in range(batch_size):\n",
    "    coord_volume = coord_volumes[batch_i]\n",
    "    grid_coord = coord_volume.reshape((-1, 3))\n",
    "\n",
    "    volume_batch_to_aggregate = torch.zeros(n_views, n_joints, *volume_shape, device=device)\n",
    "\n",
    "    for view_i in range(n_views):\n",
    "        heatmap = heatmaps[batch_i, view_i]\n",
    "        heatmap = heatmap.unsqueeze(0)\n",
    "\n",
    "        grid_coord_proj = multiview.project_3d_points_to_image_plane_without_distortion(\n",
    "            proj_matricies[batch_i, view_i], grid_coord, convert_back_to_euclidean=False\n",
    "        )\n",
    "\n",
    "        invalid_mask = grid_coord_proj[:, 2] <= 0.0  # depth must be larger than 0.0\n",
    "\n",
    "        grid_coord_proj[grid_coord_proj[:, 2] == 0.0, 2] = 1.0  # not to divide by zero\n",
    "        grid_coord_proj = multiview.homogeneous_to_euclidean(grid_coord_proj)\n",
    "\n",
    "        # transform to [-1.0, 1.0] range\n",
    "        grid_coord_proj_transformed = torch.zeros_like(grid_coord_proj)\n",
    "        grid_coord_proj_transformed[:, 0] = 2 * (grid_coord_proj[:, 0] / heatmap_shape[0] - 0.5)\n",
    "        grid_coord_proj_transformed[:, 1] = 2 * (grid_coord_proj[:, 1] / heatmap_shape[1] - 0.5)\n",
    "        grid_coord_proj = grid_coord_proj_transformed\n",
    "\n",
    "        # prepare to F.grid_sample\n",
    "        grid_coord_proj = grid_coord_proj.unsqueeze(1).unsqueeze(0)\n",
    "        current_volume = F.grid_sample(heatmap, grid_coord_proj)\n",
    "\n",
    "        # zero out non-valid points\n",
    "        current_volume = current_volume.view(n_joints, -1)\n",
    "        current_volume[:, invalid_mask] = 0.0\n",
    "\n",
    "        # reshape back to volume\n",
    "        current_volume = current_volume.view(n_joints, *volume_shape)\n",
    "\n",
    "        # collect\n",
    "        volume_batch_to_aggregate[view_i] = current_volume\n",
    "\n",
    "    # agregate resulting volume\n",
    "    if volume_aggregation_method.startswith('conf'):\n",
    "        volume_batch[batch_i] = (volume_batch_to_aggregate * vol_confidences[batch_i].view(n_views, n_joints, 1, 1, 1)).sum(0)\n",
    "    elif volume_aggregation_method == 'sum':\n",
    "        volume_batch[batch_i] = volume_batch_to_aggregate.sum(0)\n",
    "    elif volume_aggregation_method == 'max':\n",
    "        volume_batch[batch_i] = volume_batch_to_aggregate.max(0)[0]\n",
    "    elif volume_aggregation_method == 'softmax':\n",
    "        volume_batch_to_aggregate_softmin = volume_batch_to_aggregate.clone()\n",
    "        volume_batch_to_aggregate_softmin = volume_batch_to_aggregate_softmin.view(n_views, -1)\n",
    "        volume_batch_to_aggregate_softmin = nn.functional.softmax(volume_batch_to_aggregate_softmin, dim=0)\n",
    "        volume_batch_to_aggregate_softmin = volume_batch_to_aggregate_softmin.view(n_views, n_joints, *volume_shape)\n",
    "\n",
    "        volume_batch[batch_i] = (volume_batch_to_aggregate * volume_batch_to_aggregate_softmin).sum(0)\n",
    "\n",
    "    elif volume_aggregation_method == 'no_aggregation':\n",
    "        volume_batch.append(volume_batch_to_aggregate*volumes_multipliers[view_i])\n",
    "    else:\n",
    "        raise ValueError(\"Unknown volume_aggregation_method: {}\".format(volume_aggregation_method))\n",
    "\n",
    "return volume_batch"
   ]
  }
 ],
 "metadata": {
  "kernelspec": {
   "display_name": "Python 3",
   "language": "python",
   "name": "python3"
  },
  "language_info": {
   "codemirror_mode": {
    "name": "ipython",
    "version": 3
   },
   "file_extension": ".py",
   "mimetype": "text/x-python",
   "name": "python",
   "nbconvert_exporter": "python",
   "pygments_lexer": "ipython3",
   "version": "3.6.9"
  }
 },
 "nbformat": 4,
 "nbformat_minor": 2
}
