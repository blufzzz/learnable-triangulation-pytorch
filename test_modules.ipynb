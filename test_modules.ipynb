{
 "cells": [
  {
   "cell_type": "code",
   "execution_count": 74,
   "metadata": {},
   "outputs": [
    {
     "name": "stdout",
     "output_type": "stream",
     "text": [
      "The autoreload extension is already loaded. To reload it, use:\n",
      "  %reload_ext autoreload\n"
     ]
    }
   ],
   "source": [
    "%load_ext autoreload\n",
    "%autoreload 2\n",
    "import os\n",
    "import sys\n",
    "import shutil\n",
    "import argparse\n",
    "import time\n",
    "import json\n",
    "from datetime import datetime\n",
    "from collections import defaultdict\n",
    "from itertools import islice\n",
    "import pickle\n",
    "import copy\n",
    "import numpy as np\n",
    "import cv2\n",
    "from easydict import EasyDict\n",
    "from IPython.core.debugger import set_trace\n",
    "import matplotlib.pyplot as plt\n",
    "\n",
    "import torch\n",
    "from torch import nn\n",
    "from torch import autograd\n",
    "import torch.nn.functional as F\n",
    "import torch.optim as optim\n",
    "from torch.utils.data import DataLoader\n",
    "from torch.nn.parallel import DistributedDataParallel\n",
    "from tensorboardX import SummaryWriter\n",
    "\n",
    "from mvn.models.triangulation import  VolumetricTriangulationNet\n",
    "from mvn.models.volumetric_adain import VolumetricTemporalAdaINNet\n",
    "from mvn.models.v2v import AdaIN, V2VModel, Basic3DBlock, Res3DBlock, Upsample3DBlock, Pool3DBlock, EncoderDecorder\n",
    "from mvn.models import v2v\n",
    "from mvn.models.temporal import get_normalization, Res1DBlock\n",
    "from mvn.models.loss import KeypointsMSELoss, KeypointsMSESmoothLoss, KeypointsMAELoss, KeypointsL2Loss, VolumetricCELoss\n",
    "from mvn.models import pose_hrnet, pose_resnet\n",
    "from mvn.utils import img, multiview, op, vis, misc, cfg\n",
    "from mvn.datasets.human36m import Human36MTemporalDataset, Human36MMultiViewDataset\n",
    "from mvn.datasets import utils as dataset_utils\n",
    "\n",
    "from mvn.utils.multiview import project_3d_points_to_image_plane_without_distortion\n",
    "from mvn.utils.vis import draw_2d_pose\n",
    "from mvn.utils import img\n",
    "from mvn.utils import volumetric\n",
    "from mvn.utils import op\n",
    "from mvn.utils import vis\n",
    "from mvn.utils import misc\n",
    "from mvn.utils import cfg\n",
    "from mvn.datasets import utils as dataset_utils\n",
    "from mvn.utils.img import image_batch_to_numpy, denormalize_image,to_numpy\n",
    "\n",
    "from tqdm import tqdm_notebook\n",
    "\n",
    "from torch.nn.utils.rnn import pack_padded_sequence\n",
    "from pytorch_convolutional_rnn.convolutional_rnn import Conv3dLSTM, Conv3dPeepholeLSTM\n",
    "\n",
    "from train import setup_human36m_dataloaders\n",
    "\n",
    "device = torch.cuda.current_device()\n",
    "\n",
    "def get_n(m):\n",
    "    s = 0\n",
    "    for param in m.parameters():\n",
    "        s+=param.nelement()\n",
    "    print (m.__class__, s//1024)    "
   ]
  },
  {
   "cell_type": "markdown",
   "metadata": {},
   "source": [
    "# TemporalDiscr\n"
   ]
  },
  {
   "cell_type": "code",
   "execution_count": 75,
   "metadata": {},
   "outputs": [],
   "source": [
    "class TemporalDiscriminator(nn.Module):\n",
    "    \"\"\"docstring for TemporalDiscriminator\"\"\"\n",
    "    def __init__(self, \n",
    "                 input_features_dim, \n",
    "                 output_features_dim=1024, \n",
    "                 intermediate_channels=512, \n",
    "                 normalization_type='group_norm',\n",
    "                 dt = 8,\n",
    "                 kernel_size = 3,\n",
    "                 n_groups = 32):\n",
    "        \n",
    "        super().__init__()\n",
    "        self.input_features_dim = input_features_dim\n",
    "        self.output_features_dim = output_features_dim\n",
    "        self.intermediate_channels = intermediate_channels\n",
    "        self.normalization_type = normalization_type\n",
    "        \n",
    "        self.first_block = Res1DBlock(input_features_dim, \n",
    "                                      intermediate_channels,\n",
    "                                      kernel_size=1,\n",
    "                                      normalization_type=normalization_type)\n",
    "        \n",
    "        l = dt\n",
    "        blocks =  []\n",
    "        while l >= kernel_size:\n",
    "            l = l - kernel_size + 1\n",
    "            blocks.append(Res1DBlock(intermediate_channels, \n",
    "                                     intermediate_channels, \n",
    "                                     kernel_size=kernel_size,\n",
    "                                     normalization_type=normalization_type))\n",
    "\n",
    "            blocks.append(nn.Sequential(nn.Conv1d(intermediate_channels, intermediate_channels, kernel_size=3, padding=1),\n",
    "                                        get_normalization(normalization_type, intermediate_channels, n_groups=n_groups, dimension=1),\n",
    "                                        nn.ReLU(True),\n",
    "                                        nn.Conv1d(intermediate_channels, intermediate_channels, kernel_size=3, padding=1),\n",
    "                                        get_normalization(normalization_type, intermediate_channels, n_groups=n_groups, dimension=1),\n",
    "                                        nn.ReLU(True)\n",
    "                                        ))\n",
    "        \n",
    "        self.blocks = nn.Sequential(*blocks)    \n",
    "        self.final_block = nn.Conv1d(intermediate_channels, \n",
    "                                      output_features_dim,\n",
    "                                      kernel_size=l)\n",
    "        \n",
    "    def forward(self, x, device='cuda:0'):\n",
    "        # [batch_size, dt, feature_shape]\n",
    "        x = x.transpose(1,2) # [batch_size, dt, feature_shape] -> [batch_size, feature_shape, dt]\n",
    "        x  = self.first_block(x)\n",
    "        x  = self.blocks(x)\n",
    "        x  = self.final_block(x)\n",
    "        \n",
    "        return x[...,0]"
   ]
  },
  {
   "cell_type": "code",
   "execution_count": 88,
   "metadata": {},
   "outputs": [
    {
     "data": {
      "text/plain": [
       "[3, 4]"
      ]
     },
     "execution_count": 88,
     "metadata": {},
     "output_type": "execute_result"
    }
   ],
   "source": [
    "x = torch.randn(4,8,17,3)\n",
    "[1,2,3,4][-2:]"
   ]
  },
  {
   "cell_type": "code",
   "execution_count": null,
   "metadata": {},
   "outputs": [],
   "source": []
  }
 ],
 "metadata": {
  "kernelspec": {
   "display_name": "Python 3",
   "language": "python",
   "name": "python3"
  },
  "language_info": {
   "codemirror_mode": {
    "name": "ipython",
    "version": 3
   },
   "file_extension": ".py",
   "mimetype": "text/x-python",
   "name": "python",
   "nbconvert_exporter": "python",
   "pygments_lexer": "ipython3",
   "version": "3.6.9"
  }
 },
 "nbformat": 4,
 "nbformat_minor": 2
}
