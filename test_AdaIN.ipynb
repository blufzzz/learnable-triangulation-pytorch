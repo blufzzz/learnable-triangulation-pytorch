{
 "cells": [
  {
   "cell_type": "code",
   "execution_count": 4,
   "metadata": {},
   "outputs": [
    {
     "name": "stdout",
     "output_type": "stream",
     "text": [
      "The autoreload extension is already loaded. To reload it, use:\n",
      "  %reload_ext autoreload\n"
     ]
    }
   ],
   "source": [
    "%load_ext autoreload\n",
    "%autoreload 2\n",
    "import torch\n",
    "from torch import nn\n",
    "from mvn.utils import cfg\n",
    "from train import setup_human36m_dataloaders\n",
    "import matplotlib.pyplot as plt\n",
    "from mvn.datasets import utils as dataset_utils\n",
    "\n",
    "from mvn.models.v2v import V2VModelAdaIN, Basic3DBlockAdaIN, Res3DBlockAdaIN, Upsample3DBlockAdaIN\n",
    "from mvn.models.volumetric_temporal import Seq2VecModel, VolumetricAdaINConditionedTemporalNet\n",
    "\n",
    "device = torch.cuda.current_device()\n"
   ]
  },
  {
   "cell_type": "code",
   "execution_count": 5,
   "metadata": {},
   "outputs": [],
   "source": [
    "# l1 = [16, 32,32,32, 32,32, 32,32]\n",
    "\n",
    "# l2 = [32,32, 64,64,64, 64,64, 128,128,128, 128,128, 128,128, \\\n",
    "#         128,128, 128,128, 128,128, 128,128, 128,128, 128,128, 128, \\\n",
    "#         128,128, 128, 128,128, 128, 128,128, 64, 64,64, 32]\n",
    "# l3 = [32,32, 32, 32]"
   ]
  },
  {
   "cell_type": "code",
   "execution_count": 6,
   "metadata": {},
   "outputs": [],
   "source": [
    "config_path = 'experiments/human36m/train/human36m_vol_temporal_softmax.yaml'\n",
    "config = cfg.load_config(config_path)\n",
    "\n",
    "train_loader, val_loader, _ = setup_human36m_dataloaders(config, is_train=True,distributed_train=False)"
   ]
  },
  {
   "cell_type": "code",
   "execution_count": 7,
   "metadata": {},
   "outputs": [],
   "source": [
    "for batch in train_loader:\n",
    "    break"
   ]
  },
  {
   "cell_type": "code",
   "execution_count": 8,
   "metadata": {},
   "outputs": [
    {
     "name": "stdout",
     "output_type": "stream",
     "text": [
      "Loading pretrained weights from: ./data/pose_resnet_4.5_pixels_human36m.pth\n",
      "Parameters [{'final_layer.bias', 'final_layer.weight'}] were not inited\n",
      "Successfully loaded pretrained weights for backbone\n",
      "backbone inited 2.5086\n",
      "v2v inited 0.1534\n",
      "Seq2VecModel inited 0.0144\n",
      "affine_mappings inited 0.0301\n"
     ]
    }
   ],
   "source": [
    "model = VolumetricAdaINConditionedTemporalNet(config).cuda()"
   ]
  },
  {
   "cell_type": "code",
   "execution_count": 9,
   "metadata": {},
   "outputs": [
    {
     "name": "stdout",
     "output_type": "stream",
     "text": [
      "torch.Size([1, 4, 3, 384, 384]) torch.Size([1, 17, 3]) torch.Size([1, 4, 3, 4])\n"
     ]
    }
   ],
   "source": [
    "images_batch, keypoints_3d_batch_gt, keypoints_3d_validity_batch_gt, proj_matricies_batch = dataset_utils.prepare_batch(batch, device, config)\n",
    "\n",
    "print(images_batch.shape, keypoints_3d_batch_gt.shape, proj_matricies_batch.shape)"
   ]
  },
  {
   "cell_type": "code",
   "execution_count": 10,
   "metadata": {
    "scrolled": true
   },
   "outputs": [],
   "source": [
    "(vol_keypoints_3d,\n",
    "    features,\n",
    "    volumes,\n",
    "    vol_confidences,\n",
    "    cuboids,\n",
    "    coord_volumes,\n",
    "    base_points) = model(images_batch, batch)\n",
    "\n"
   ]
  },
  {
   "cell_type": "code",
   "execution_count": null,
   "metadata": {},
   "outputs": [],
   "source": []
  }
 ],
 "metadata": {
  "kernelspec": {
   "display_name": "Python 3",
   "language": "python",
   "name": "python3"
  },
  "language_info": {
   "codemirror_mode": {
    "name": "ipython",
    "version": 3
   },
   "file_extension": ".py",
   "mimetype": "text/x-python",
   "name": "python",
   "nbconvert_exporter": "python",
   "pygments_lexer": "ipython3",
   "version": "3.6.9"
  }
 },
 "nbformat": 4,
 "nbformat_minor": 2
}
