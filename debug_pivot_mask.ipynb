{
 "cells": [
  {
   "cell_type": "code",
   "execution_count": 2,
   "metadata": {},
   "outputs": [
    {
     "name": "stdout",
     "output_type": "stream",
     "text": [
      "The autoreload extension is already loaded. To reload it, use:\n",
      "  %reload_ext autoreload\n"
     ]
    }
   ],
   "source": [
    "%load_ext autoreload\n",
    "%autoreload 2\n",
    "\n",
    "import torch\n",
    "from mvn.utils import multiview\n",
    "from collections import defaultdict\n",
    "\n",
    "from mvn.datasets.cmu import CMUSceneDataset\n",
    "from mvn.datasets.human36m import Human36MMultiViewDataset, Human36MSingleViewDataset\n",
    "from torch.utils.data import DataLoader\n",
    "\n",
    "import os\n",
    "from itertools import islice\n",
    "from tqdm import tqdm_notebook\n",
    "import pickle\n",
    "\n",
    "\n",
    "import numpy as np\n",
    "import cv2\n",
    "import time\n",
    "import sys\n",
    "\n",
    "from torch import nn\n",
    "import torch.nn.functional as F\n",
    "from torch.utils.data import DataLoader\n",
    "\n",
    "from mvn.utils.img import image_batch_to_numpy, denormalize_image\n",
    "from mvn.models.temporal import TemporalModel, TemporalModelBase\n",
    "from mvn.models.basic import VolumetricTriangulationNet, VolumetricTemporalTriangulationNet\n",
    "from mvn.utils.multiview import project_3d_points_to_image_plane_without_distortion\n",
    "from mvn.utils.vis import draw_2d_pose\n",
    "\n",
    "from mvn.utils import img\n",
    "from mvn.utils import multiview\n",
    "from mvn.utils import volumetric\n",
    "from mvn.utils import op\n",
    "from mvn.utils import vis\n",
    "from mvn.utils import misc\n",
    "from mvn.utils import cfg\n",
    "import re\n",
    "\n",
    "from time import time\n",
    "\n",
    "from easydict import EasyDict\n",
    "\n",
    "from mvn.datasets import cmu, kth\n",
    "from mvn.datasets import utils as dataset_utils\n",
    "from mvn.datasets.human36m import Human36MMultiViewDataset, Human36MSingleViewDataset\n",
    "\n",
    "from train import setup_human36m_dataloaders, keypoints_to_features\n",
    "\n",
    "from IPython.core.debugger import set_trace\n",
    "\n",
    "from matplotlib import pyplot as plt\n",
    "from warnings import filterwarnings\n",
    "filterwarnings(\"ignore\")\n",
    "\n",
    "%matplotlib inline\n",
    "\n",
    "retval = {\n",
    "    'subject_names': ['S1', 'S5', 'S6', 'S7', 'S8', 'S9', 'S11'],\n",
    "    'camera_names': ['54138969', '55011271', '58860488', '60457274'],\n",
    "    'action_names': [\n",
    "        'Directions-1', 'Directions-2',\n",
    "        'Discussion-1', 'Discussion-2',\n",
    "        'Eating-1', 'Eating-2',\n",
    "        'Greeting-1', 'Greeting-2',\n",
    "        'Phoning-1', 'Phoning-2',\n",
    "        'Posing-1', 'Posing-2',\n",
    "        'Purchases-1', 'Purchases-2',\n",
    "        'Sitting-1', 'Sitting-2',\n",
    "        'SittingDown-1', 'SittingDown-2',\n",
    "        'Smoking-1', 'Smoking-2',\n",
    "        'TakingPhoto-1', 'TakingPhoto-2',\n",
    "        'Waiting-1', 'Waiting-2',\n",
    "        'Walking-1', 'Walking-2',\n",
    "        'WalkingDog-1', 'WalkingDog-2',\n",
    "        'WalkingTogether-1', 'WalkingTogether-2']\n",
    "}\n",
    "# import nonechucks\n",
    "\n",
    "device = torch.cuda.current_device()"
   ]
  },
  {
   "cell_type": "code",
   "execution_count": 3,
   "metadata": {},
   "outputs": [],
   "source": [
    "labels_path='/media/hpc2_storage/ibulygin/human36m-preprocessing/human36m-multiview-labels-GTbboxes.npy'\n",
    "labels = np.load(labels_path, allow_pickle = True).item()"
   ]
  },
  {
   "cell_type": "code",
   "execution_count": 43,
   "metadata": {},
   "outputs": [],
   "source": [
    "pivot_position = 'first'\n",
    "n_frames = len(labels['table'])\n",
    "dt = 3\n",
    "dilation = 0\n",
    "retain_every_n_frames_in_test=1\n",
    "# Let's call an i-th element in the middle of the CONSECUTIVE sequence [i-dt//2, i, i+dt//2], with length `dt`, as pivot.\n",
    "# Initially, consider all frames as pivots\n",
    "pivot_mask = np.ones((n_frames,),dtype=np.bool)\n",
    "# the whole time period covered with dilation\n",
    "_time_period = dt + (dt-1)*(dilation)\n",
    "\n",
    "if dt > 1:\n",
    "\n",
    "    frame_idx =  labels['table']['frame_idx']\n",
    "\n",
    "    # Mark positions where the new scene or action is starting\n",
    "    change_mask = np.concatenate((frame_idx[:-1] > frame_idx[1:], [False]))\n",
    "    \n",
    "    if pivot_position == 'intermediate':\n",
    "        # Shift that positions shuch that all non-pivot positions marked `True`\n",
    "        for _ in range((_time_period//2)-1):\n",
    "            change_mask[:-1] = change_mask[:-1] | change_mask[1:]\n",
    "        for _ in range(_time_period//2):\n",
    "            change_mask[1:] = change_mask[1:] | change_mask[:-1]\n",
    "        change_mask[:_time_period//2] = True\n",
    "        change_mask[-(_time_period//2):] = True\n",
    "        \n",
    "    elif pivot_position == 'first':\n",
    "        # Shift that positions shuch that all non-pivot positions marked `True`\n",
    "        for _ in range(_time_period-1):\n",
    "            change_mask[1:] = change_mask[1:] | change_mask[:-1]\n",
    "        change_mask[:_time_period-1] = True\n",
    "    \n",
    "    pivot_mask = ~change_mask\n",
    "\n",
    "pivot_indxs = np.arange(n_frames)[pivot_mask][::retain_every_n_frames_in_test]\n",
    "n_sequences = len(pivot_indxs)"
   ]
  },
  {
   "cell_type": "code",
   "execution_count": 46,
   "metadata": {},
   "outputs": [
    {
     "data": {
      "text/plain": [
       "array([     2,      3,      4, ..., 527596, 527597, 527598])"
      ]
     },
     "execution_count": 46,
     "metadata": {},
     "output_type": "execute_result"
    }
   ],
   "source": []
  },
  {
   "cell_type": "code",
   "execution_count": null,
   "metadata": {},
   "outputs": [],
   "source": []
  }
 ],
 "metadata": {
  "kernelspec": {
   "display_name": "Python 3",
   "language": "python",
   "name": "python3"
  },
  "language_info": {
   "codemirror_mode": {
    "name": "ipython",
    "version": 3
   },
   "file_extension": ".py",
   "mimetype": "text/x-python",
   "name": "python",
   "nbconvert_exporter": "python",
   "pygments_lexer": "ipython3",
   "version": "3.6.9"
  }
 },
 "nbformat": 4,
 "nbformat_minor": 2
}
